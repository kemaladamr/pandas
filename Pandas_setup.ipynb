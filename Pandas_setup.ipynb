{
  "nbformat": 4,
  "nbformat_minor": 0,
  "metadata": {
    "colab": {
      "name": "Pandas_setup.ipynb",
      "provenance": [],
      "authorship_tag": "ABX9TyMGVtU6ERhwth0IJwx0obaE",
      "include_colab_link": true
    },
    "kernelspec": {
      "name": "python3",
      "display_name": "Python 3"
    },
    "language_info": {
      "name": "python"
    }
  },
  "cells": [
    {
      "cell_type": "markdown",
      "metadata": {
        "id": "view-in-github",
        "colab_type": "text"
      },
      "source": [
        "<a href=\"https://colab.research.google.com/github/kemaladamr/pandas/blob/main/Pandas_setup.ipynb\" target=\"_parent\"><img src=\"https://colab.research.google.com/assets/colab-badge.svg\" alt=\"Open In Colab\"/></a>"
      ]
    },
    {
      "cell_type": "code",
      "execution_count": 1,
      "metadata": {
        "id": "RDsnY_7tO05W"
      },
      "outputs": [],
      "source": [
        "# import pandas\n",
        "# def get_data_head(file):\n",
        "#     data = pandas.read_csv(file)\n",
        "#     data_head = data.head()\n",
        "#     return(data_head)"
      ]
    },
    {
      "cell_type": "code",
      "source": [
        "import pandas as pd\n",
        "import numpy as np"
      ],
      "metadata": {
        "id": "Rwyt6yKLQxG2"
      },
      "execution_count": 13,
      "outputs": []
    },
    {
      "cell_type": "code",
      "source": [
        "pd.get_option(\"display.max_rows\")"
      ],
      "metadata": {
        "colab": {
          "base_uri": "https://localhost:8080/"
        },
        "id": "JxGIpS2QRJWG",
        "outputId": "76381cf5-816a-4107-c0db-504e353bcebe"
      },
      "execution_count": 3,
      "outputs": [
        {
          "output_type": "execute_result",
          "data": {
            "text/plain": [
              "60"
            ]
          },
          "metadata": {},
          "execution_count": 3
        }
      ]
    },
    {
      "cell_type": "code",
      "source": [
        "pd.set_option(\"display.max_rows\", 120)\n",
        "pd.get_option(\"display.max_rows\")"
      ],
      "metadata": {
        "colab": {
          "base_uri": "https://localhost:8080/"
        },
        "id": "Y3M8gw4mRNMe",
        "outputId": "a08ee7fc-ae9d-482e-f97c-d6e0573df2e2"
      },
      "execution_count": 5,
      "outputs": [
        {
          "output_type": "execute_result",
          "data": {
            "text/plain": [
              "120"
            ]
          },
          "metadata": {},
          "execution_count": 5
        }
      ]
    },
    {
      "cell_type": "code",
      "source": [
        "pd.reset_option(\"display.max_rows\")\n",
        "pd.get_option(\"display.max_rows\")"
      ],
      "metadata": {
        "colab": {
          "base_uri": "https://localhost:8080/"
        },
        "id": "pcNBdok2RXKG",
        "outputId": "03293096-8960-475b-d061-0dd57c19d8db"
      },
      "execution_count": 6,
      "outputs": [
        {
          "output_type": "execute_result",
          "data": {
            "text/plain": [
              "60"
            ]
          },
          "metadata": {},
          "execution_count": 6
        }
      ]
    },
    {
      "cell_type": "code",
      "source": [
        "pd.get_option(\"display.max_columns\")"
      ],
      "metadata": {
        "colab": {
          "base_uri": "https://localhost:8080/"
        },
        "id": "zeM1WEEVRhYX",
        "outputId": "644d92d4-757b-477e-e0fc-f217402305c4"
      },
      "execution_count": 8,
      "outputs": [
        {
          "output_type": "execute_result",
          "data": {
            "text/plain": [
              "0"
            ]
          },
          "metadata": {},
          "execution_count": 8
        }
      ]
    },
    {
      "cell_type": "code",
      "source": [
        "s = pd.Series(np.random.randn(5))"
      ],
      "metadata": {
        "id": "n2HW5p-kRm2O"
      },
      "execution_count": 14,
      "outputs": []
    },
    {
      "cell_type": "code",
      "source": [
        "pd.set_eng_float_format(accuracy=3, use_eng_prefix=False)"
      ],
      "metadata": {
        "id": "4kw3ii83RvPE"
      },
      "execution_count": 15,
      "outputs": []
    },
    {
      "cell_type": "code",
      "source": [
        "s"
      ],
      "metadata": {
        "colab": {
          "base_uri": "https://localhost:8080/"
        },
        "id": "eTJKw6bJSIMi",
        "outputId": "2630d3f2-0c7d-43aa-9b10-b83644cdf3f2"
      },
      "execution_count": 16,
      "outputs": [
        {
          "output_type": "execute_result",
          "data": {
            "text/plain": [
              "0     -1.638E+00\n",
              "1     -1.517E+00\n",
              "2   -711.873E-03\n",
              "3   -820.863E-03\n",
              "4    407.795E-03\n",
              "dtype: float64"
            ]
          },
          "metadata": {},
          "execution_count": 16
        }
      ]
    },
    {
      "cell_type": "code",
      "source": [
        "pd.set_eng_float_format(accuracy=3, use_eng_prefix=True)"
      ],
      "metadata": {
        "id": "7pJ3NgUkSJqc"
      },
      "execution_count": 17,
      "outputs": []
    },
    {
      "cell_type": "code",
      "source": [
        "s"
      ],
      "metadata": {
        "colab": {
          "base_uri": "https://localhost:8080/"
        },
        "id": "lCoGlN2WSRFo",
        "outputId": "40d5a3da-309e-4979-b013-5c547b44bc67"
      },
      "execution_count": 18,
      "outputs": [
        {
          "output_type": "execute_result",
          "data": {
            "text/plain": [
              "0      -1.638\n",
              "1      -1.517\n",
              "2   -711.873m\n",
              "3   -820.863m\n",
              "4    407.795m\n",
              "dtype: float64"
            ]
          },
          "metadata": {},
          "execution_count": 18
        }
      ]
    },
    {
      "cell_type": "code",
      "source": [
        ""
      ],
      "metadata": {
        "id": "Y8NN2cFhSR5W"
      },
      "execution_count": null,
      "outputs": []
    }
  ]
}