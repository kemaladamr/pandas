{
  "nbformat": 4,
  "nbformat_minor": 0,
  "metadata": {
    "colab": {
      "name": "Numpy_and_Data_Structures.ipynb",
      "provenance": [],
      "collapsed_sections": [],
      "authorship_tag": "ABX9TyPpt5NPyJlI0S4kWkCBj+Z0",
      "include_colab_link": true
    },
    "kernelspec": {
      "name": "python3",
      "display_name": "Python 3"
    },
    "language_info": {
      "name": "python"
    }
  },
  "cells": [
    {
      "cell_type": "markdown",
      "metadata": {
        "id": "view-in-github",
        "colab_type": "text"
      },
      "source": [
        "<a href=\"https://colab.research.google.com/github/kemaladamr/pandas/blob/main/Numpy_and_Data_Structures.ipynb\" target=\"_parent\"><img src=\"https://colab.research.google.com/assets/colab-badge.svg\" alt=\"Open In Colab\"/></a>"
      ]
    },
    {
      "cell_type": "code",
      "execution_count": 1,
      "metadata": {
        "id": "rPrOaUrRTTiE"
      },
      "outputs": [],
      "source": [
        "array_list = [[100, 64, 160],\n",
        "              [150, 82, 200],\n",
        "              [90, 55, 80],\n",
        "              [130, 73, 220],\n",
        "              [190, 80, 150]]"
      ]
    },
    {
      "cell_type": "code",
      "source": [
        "array_list[1][2]"
      ],
      "metadata": {
        "colab": {
          "base_uri": "https://localhost:8080/"
        },
        "id": "xCWUfNCPTnBO",
        "outputId": "eb168f1d-7bf2-41a7-e44d-b265dadacd73"
      },
      "execution_count": 2,
      "outputs": [
        {
          "output_type": "execute_result",
          "data": {
            "text/plain": [
              "200"
            ]
          },
          "metadata": {},
          "execution_count": 2
        }
      ]
    },
    {
      "cell_type": "code",
      "source": [
        "array_list[3][0]"
      ],
      "metadata": {
        "colab": {
          "base_uri": "https://localhost:8080/"
        },
        "id": "iCAyWTj2TrZc",
        "outputId": "f3859ea8-d5a1-47dc-d0fb-e2657c26bfd4"
      },
      "execution_count": 3,
      "outputs": [
        {
          "output_type": "execute_result",
          "data": {
            "text/plain": [
              "130"
            ]
          },
          "metadata": {},
          "execution_count": 3
        }
      ]
    },
    {
      "cell_type": "code",
      "source": [
        "array_list"
      ],
      "metadata": {
        "colab": {
          "base_uri": "https://localhost:8080/"
        },
        "id": "xR7lVMSkUPhe",
        "outputId": "5640bc38-8edf-4340-dc58-2aaad27222c6"
      },
      "execution_count": 4,
      "outputs": [
        {
          "output_type": "execute_result",
          "data": {
            "text/plain": [
              "[[100, 64, 160], [150, 82, 200], [90, 55, 80], [130, 73, 220], [190, 80, 150]]"
            ]
          },
          "metadata": {},
          "execution_count": 4
        }
      ]
    },
    {
      "cell_type": "code",
      "source": [
        "import array as arr\n",
        "arr_x = arr.array(\"d\", [98.6, 22.35, 72.1])"
      ],
      "metadata": {
        "id": "SG1e6e-4TtX3"
      },
      "execution_count": 5,
      "outputs": []
    },
    {
      "cell_type": "code",
      "source": [
        "arr_x"
      ],
      "metadata": {
        "colab": {
          "base_uri": "https://localhost:8080/"
        },
        "id": "I8d0rpLgT29z",
        "outputId": "e61e5c47-06fb-4d8a-ee03-fce57e7d060e"
      },
      "execution_count": 6,
      "outputs": [
        {
          "output_type": "execute_result",
          "data": {
            "text/plain": [
              "array('d', [98.6, 22.35, 72.1])"
            ]
          },
          "metadata": {},
          "execution_count": 6
        }
      ]
    },
    {
      "cell_type": "code",
      "source": [
        "ndarray = ([[100, 65, 160],\n",
        "               [150, 82, 200],\n",
        "               [90, 55, 80],\n",
        "               [130, 73, 220],\n",
        "               [190, 80, 150]],\n",
        "              [[95, 68, 140],\n",
        "               [145, 80, 222],\n",
        "               [90, 62, 100],\n",
        "               [150, 92, 200],\n",
        "               [140, 60, 90]],\n",
        "              [[110, 72, 160],\n",
        "               [160, 95, 185],\n",
        "               [100, 80, 110],\n",
        "               [140, 92, 120],\n",
        "               [100, 55, 100]])"
      ],
      "metadata": {
        "id": "EnIh6qb4T95g"
      },
      "execution_count": 7,
      "outputs": []
    },
    {
      "cell_type": "code",
      "source": [
        "ndarray"
      ],
      "metadata": {
        "colab": {
          "base_uri": "https://localhost:8080/"
        },
        "id": "zKF6bsNUoIRa",
        "outputId": "6f3641ca-65d1-4747-cefb-89308987c981"
      },
      "execution_count": 8,
      "outputs": [
        {
          "output_type": "execute_result",
          "data": {
            "text/plain": [
              "([[100, 65, 160],\n",
              "  [150, 82, 200],\n",
              "  [90, 55, 80],\n",
              "  [130, 73, 220],\n",
              "  [190, 80, 150]],\n",
              " [[95, 68, 140], [145, 80, 222], [90, 62, 100], [150, 92, 200], [140, 60, 90]],\n",
              " [[110, 72, 160],\n",
              "  [160, 95, 185],\n",
              "  [100, 80, 110],\n",
              "  [140, 92, 120],\n",
              "  [100, 55, 100]])"
            ]
          },
          "metadata": {},
          "execution_count": 8
        }
      ]
    },
    {
      "cell_type": "code",
      "source": [
        "import numpy as np"
      ],
      "metadata": {
        "id": "eUS-uQu2VWnM"
      },
      "execution_count": 9,
      "outputs": []
    },
    {
      "cell_type": "code",
      "source": [
        "array1d = np.array([1, 2, 3, 4])\n",
        "array1d"
      ],
      "metadata": {
        "colab": {
          "base_uri": "https://localhost:8080/"
        },
        "id": "o3kYmL7Jo43B",
        "outputId": "9d1c2f24-146c-4ea5-f3d6-05c291b13f5d"
      },
      "execution_count": 10,
      "outputs": [
        {
          "output_type": "execute_result",
          "data": {
            "text/plain": [
              "array([1, 2, 3, 4])"
            ]
          },
          "metadata": {},
          "execution_count": 10
        }
      ]
    },
    {
      "cell_type": "code",
      "source": [
        "array2d = np.array([[0, 1, 2], [2, 3, 4]])\n",
        "array2d"
      ],
      "metadata": {
        "colab": {
          "base_uri": "https://localhost:8080/"
        },
        "id": "20JN1w87pDAb",
        "outputId": "2b603325-bf24-40b0-af80-0a35426fad2e"
      },
      "execution_count": 11,
      "outputs": [
        {
          "output_type": "execute_result",
          "data": {
            "text/plain": [
              "array([[0, 1, 2],\n",
              "       [2, 3, 4]])"
            ]
          },
          "metadata": {},
          "execution_count": 11
        }
      ]
    },
    {
      "cell_type": "code",
      "source": [
        "np.ones((2, 3, 4))"
      ],
      "metadata": {
        "colab": {
          "base_uri": "https://localhost:8080/"
        },
        "id": "NvLRKbdCpMWf",
        "outputId": "d1635521-086c-4595-95d2-c3d08e317c51"
      },
      "execution_count": 12,
      "outputs": [
        {
          "output_type": "execute_result",
          "data": {
            "text/plain": [
              "array([[[1., 1., 1., 1.],\n",
              "        [1., 1., 1., 1.],\n",
              "        [1., 1., 1., 1.]],\n",
              "\n",
              "       [[1., 1., 1., 1.],\n",
              "        [1., 1., 1., 1.],\n",
              "        [1., 1., 1., 1.]]])"
            ]
          },
          "metadata": {},
          "execution_count": 12
        }
      ]
    },
    {
      "cell_type": "code",
      "source": [
        "np.zeros((2, 1, 3))"
      ],
      "metadata": {
        "colab": {
          "base_uri": "https://localhost:8080/"
        },
        "id": "J2x_m88PpTk8",
        "outputId": "845a49f9-c365-4e6d-926f-e2e4f7f95df7"
      },
      "execution_count": 13,
      "outputs": [
        {
          "output_type": "execute_result",
          "data": {
            "text/plain": [
              "array([[[0., 0., 0.]],\n",
              "\n",
              "       [[0., 0., 0.]]])"
            ]
          },
          "metadata": {},
          "execution_count": 13
        }
      ]
    },
    {
      "cell_type": "code",
      "source": [
        "np.eye(N=3)"
      ],
      "metadata": {
        "colab": {
          "base_uri": "https://localhost:8080/"
        },
        "id": "F9o-s0vlp0rH",
        "outputId": "f84284a0-0f06-494d-e568-f814da3d18f9"
      },
      "execution_count": 14,
      "outputs": [
        {
          "output_type": "execute_result",
          "data": {
            "text/plain": [
              "array([[1., 0., 0.],\n",
              "       [0., 1., 0.],\n",
              "       [0., 0., 1.]])"
            ]
          },
          "metadata": {},
          "execution_count": 14
        }
      ]
    },
    {
      "cell_type": "code",
      "source": [
        "np.eye(N=2, M=3)"
      ],
      "metadata": {
        "colab": {
          "base_uri": "https://localhost:8080/"
        },
        "id": "zVNbRReYp5ju",
        "outputId": "9cd56c95-03ef-43c5-91b7-07156ff25d3c"
      },
      "execution_count": 15,
      "outputs": [
        {
          "output_type": "execute_result",
          "data": {
            "text/plain": [
              "array([[1., 0., 0.],\n",
              "       [0., 1., 0.]])"
            ]
          },
          "metadata": {},
          "execution_count": 15
        }
      ]
    },
    {
      "cell_type": "code",
      "source": [
        "np.eye(N=4, M=3, k=-1)"
      ],
      "metadata": {
        "colab": {
          "base_uri": "https://localhost:8080/"
        },
        "id": "wh6GTENlp_3B",
        "outputId": "1b8bd421-0ac7-4dab-d648-6252bbfa2d64"
      },
      "execution_count": 16,
      "outputs": [
        {
          "output_type": "execute_result",
          "data": {
            "text/plain": [
              "array([[0., 0., 0.],\n",
              "       [1., 0., 0.],\n",
              "       [0., 1., 0.],\n",
              "       [0., 0., 1.]])"
            ]
          },
          "metadata": {},
          "execution_count": 16
        }
      ]
    },
    {
      "cell_type": "code",
      "source": [
        "np.arange(6)"
      ],
      "metadata": {
        "colab": {
          "base_uri": "https://localhost:8080/"
        },
        "id": "wPtTM_bRqY7N",
        "outputId": "8b5f67e8-1e87-41c8-d0f4-322f2912151d"
      },
      "execution_count": 17,
      "outputs": [
        {
          "output_type": "execute_result",
          "data": {
            "text/plain": [
              "array([0, 1, 2, 3, 4, 5])"
            ]
          },
          "metadata": {},
          "execution_count": 17
        }
      ]
    },
    {
      "cell_type": "code",
      "source": [
        "np.arange(2, 13, 3)"
      ],
      "metadata": {
        "colab": {
          "base_uri": "https://localhost:8080/"
        },
        "id": "sVoGEH9Gqw3Z",
        "outputId": "8493f042-bc4a-4e66-a7c6-97b6cd1921a6"
      },
      "execution_count": 18,
      "outputs": [
        {
          "output_type": "execute_result",
          "data": {
            "text/plain": [
              "array([ 2,  5,  8, 11])"
            ]
          },
          "metadata": {},
          "execution_count": 18
        }
      ]
    },
    {
      "cell_type": "code",
      "source": [
        "np.linspace(start=5, stop=10, num=20)"
      ],
      "metadata": {
        "colab": {
          "base_uri": "https://localhost:8080/"
        },
        "id": "jKcMBpmgq0tl",
        "outputId": "7a482e8e-d860-48c2-ca4c-f7bae0845df2"
      },
      "execution_count": 19,
      "outputs": [
        {
          "output_type": "execute_result",
          "data": {
            "text/plain": [
              "array([ 5.        ,  5.26315789,  5.52631579,  5.78947368,  6.05263158,\n",
              "        6.31578947,  6.57894737,  6.84210526,  7.10526316,  7.36842105,\n",
              "        7.63157895,  7.89473684,  8.15789474,  8.42105263,  8.68421053,\n",
              "        8.94736842,  9.21052632,  9.47368421,  9.73684211, 10.        ])"
            ]
          },
          "metadata": {},
          "execution_count": 19
        }
      ]
    },
    {
      "cell_type": "code",
      "source": [
        "np.random.rand(2,4)"
      ],
      "metadata": {
        "colab": {
          "base_uri": "https://localhost:8080/"
        },
        "id": "wtoiKPnLiTTq",
        "outputId": "acf24f71-f58e-4a93-9143-98439225cb7d"
      },
      "execution_count": 20,
      "outputs": [
        {
          "output_type": "execute_result",
          "data": {
            "text/plain": [
              "array([[0.69483606, 0.5657915 , 0.16637896, 0.50095099],\n",
              "       [0.60512671, 0.85639719, 0.06952844, 0.71946778]])"
            ]
          },
          "metadata": {},
          "execution_count": 20
        }
      ]
    },
    {
      "cell_type": "code",
      "source": [
        "np.random.randn(2,4)"
      ],
      "metadata": {
        "colab": {
          "base_uri": "https://localhost:8080/"
        },
        "id": "dVL8pK1TiqBd",
        "outputId": "61188f33-c9f5-4ab7-ff8f-4cc4e498b8fb"
      },
      "execution_count": 21,
      "outputs": [
        {
          "output_type": "execute_result",
          "data": {
            "text/plain": [
              "array([[ 0.48279662,  0.73914042, -0.60830605,  0.733453  ],\n",
              "       [-1.05096405,  1.06703027, -0.77897305,  1.66746559]])"
            ]
          },
          "metadata": {},
          "execution_count": 21
        }
      ]
    },
    {
      "cell_type": "code",
      "source": [
        "5 * np.random.randn(2, 4) + 10"
      ],
      "metadata": {
        "colab": {
          "base_uri": "https://localhost:8080/"
        },
        "id": "hp72HkPii0Qz",
        "outputId": "5e279eaf-15ee-4cdd-e000-5163d2a797b5"
      },
      "execution_count": 22,
      "outputs": [
        {
          "output_type": "execute_result",
          "data": {
            "text/plain": [
              "array([[11.46968136, 10.70248254, 13.25239064, 11.23452249],\n",
              "       [11.14069276, 15.59925147,  4.77936351,  4.98901601]])"
            ]
          },
          "metadata": {},
          "execution_count": 22
        }
      ]
    },
    {
      "cell_type": "code",
      "source": [
        "np.random.randint(2, 5, (2, 3))"
      ],
      "metadata": {
        "colab": {
          "base_uri": "https://localhost:8080/"
        },
        "id": "cUrA9sI1jHgo",
        "outputId": "400c9174-b8af-4a86-d1f6-24acdef19529"
      },
      "execution_count": 23,
      "outputs": [
        {
          "output_type": "execute_result",
          "data": {
            "text/plain": [
              "array([[3, 2, 2],\n",
              "       [3, 2, 2]])"
            ]
          },
          "metadata": {},
          "execution_count": 23
        }
      ]
    },
    {
      "cell_type": "code",
      "source": [
        "np.empty([4,3])"
      ],
      "metadata": {
        "colab": {
          "base_uri": "https://localhost:8080/"
        },
        "id": "gvxMkAC_jPfj",
        "outputId": "a07cade8-9c7e-4610-bf15-43f14f3d7ed4"
      },
      "execution_count": 24,
      "outputs": [
        {
          "output_type": "execute_result",
          "data": {
            "text/plain": [
              "array([[0., 0., 0.],\n",
              "       [1., 0., 0.],\n",
              "       [0., 1., 0.],\n",
              "       [0., 0., 1.]])"
            ]
          },
          "metadata": {},
          "execution_count": 24
        }
      ]
    },
    {
      "cell_type": "code",
      "source": [
        "# The 2D input matrix for diag function\n",
        "arr_a = np.array([[1, 2, 3], [4, 5, 6], [7, 8, 9]])\n",
        "arr_a"
      ],
      "metadata": {
        "colab": {
          "base_uri": "https://localhost:8080/"
        },
        "id": "Tpf1myMijZcg",
        "outputId": "afa01e44-5d4d-4eb5-87a3-18428be60bc6"
      },
      "execution_count": 25,
      "outputs": [
        {
          "output_type": "execute_result",
          "data": {
            "text/plain": [
              "array([[1, 2, 3],\n",
              "       [4, 5, 6],\n",
              "       [7, 8, 9]])"
            ]
          },
          "metadata": {},
          "execution_count": 25
        }
      ]
    },
    {
      "cell_type": "code",
      "source": [
        "# Getting diagonal of the array\n",
        "np.diag(arr_a)"
      ],
      "metadata": {
        "colab": {
          "base_uri": "https://localhost:8080/"
        },
        "id": "l4xhSHF8j3Jh",
        "outputId": "757dffd0-ffa2-47f8-aed4-5153077f5722"
      },
      "execution_count": 26,
      "outputs": [
        {
          "output_type": "execute_result",
          "data": {
            "text/plain": [
              "array([1, 5, 9])"
            ]
          },
          "metadata": {},
          "execution_count": 26
        }
      ]
    },
    {
      "cell_type": "code",
      "source": [
        "# Construct diagonal matrix from a 1D array\n",
        "# diag returns a 1D array of diagonals for a 2D input matrix.\n",
        "# This 1D array of digonal can be used here\n",
        "np.diag(np.diag(arr_a))"
      ],
      "metadata": {
        "colab": {
          "base_uri": "https://localhost:8080/"
        },
        "id": "QwRklI--kOfw",
        "outputId": "4ed7775c-7066-4f99-e517-230d28463933"
      },
      "execution_count": 27,
      "outputs": [
        {
          "output_type": "execute_result",
          "data": {
            "text/plain": [
              "array([[1, 0, 0],\n",
              "       [0, 5, 0],\n",
              "       [0, 0, 9]])"
            ]
          },
          "metadata": {},
          "execution_count": 27
        }
      ]
    },
    {
      "cell_type": "code",
      "source": [
        "# Creating diagonal matrix with diagonals other than main diagonal\n",
        "np.diag(np.diag(arr_a, k=-1))"
      ],
      "metadata": {
        "colab": {
          "base_uri": "https://localhost:8080/"
        },
        "id": "inUmVjdjkrzp",
        "outputId": "fd12780e-a6ac-494c-d8fe-f072c501bb76"
      },
      "execution_count": 30,
      "outputs": [
        {
          "output_type": "execute_result",
          "data": {
            "text/plain": [
              "array([[4, 0],\n",
              "       [0, 8]])"
            ]
          },
          "metadata": {},
          "execution_count": 30
        }
      ]
    },
    {
      "cell_type": "code",
      "source": [
        "# Repeating a 1D array 2 times\n",
        "np.tile(np.array([1, 2, 3]), 2)"
      ],
      "metadata": {
        "colab": {
          "base_uri": "https://localhost:8080/"
        },
        "id": "sVO5nXskkyFF",
        "outputId": "88ae56d0-16a6-4efa-b317-43b824975c26"
      },
      "execution_count": 31,
      "outputs": [
        {
          "output_type": "execute_result",
          "data": {
            "text/plain": [
              "array([1, 2, 3, 1, 2, 3])"
            ]
          },
          "metadata": {},
          "execution_count": 31
        }
      ]
    },
    {
      "cell_type": "code",
      "source": [
        "# Repeating 2D array 4 times\n",
        "np.tile(np.array([[1, 2, 3], [4, 5, 6]]), 4)"
      ],
      "metadata": {
        "colab": {
          "base_uri": "https://localhost:8080/"
        },
        "id": "k1QA0zoZpIza",
        "outputId": "59f84231-a47a-472e-8a12-100275f5277d"
      },
      "execution_count": 32,
      "outputs": [
        {
          "output_type": "execute_result",
          "data": {
            "text/plain": [
              "array([[1, 2, 3, 1, 2, 3, 1, 2, 3, 1, 2, 3],\n",
              "       [4, 5, 6, 4, 5, 6, 4, 5, 6, 4, 5, 6]])"
            ]
          },
          "metadata": {},
          "execution_count": 32
        }
      ]
    },
    {
      "cell_type": "code",
      "source": [
        "# Repeating a 2D array 4 times along axis 0 and 1 time along axis 1\n",
        "np.tile(np.array([[1, 2, 3], [4, 5, 6]]), (4, 1))"
      ],
      "metadata": {
        "colab": {
          "base_uri": "https://localhost:8080/"
        },
        "id": "ZjahpWelprSV",
        "outputId": "6daeb1d5-d85a-497b-f020-8ebda3901552"
      },
      "execution_count": 34,
      "outputs": [
        {
          "output_type": "execute_result",
          "data": {
            "text/plain": [
              "array([[1, 2, 3],\n",
              "       [4, 5, 6],\n",
              "       [1, 2, 3],\n",
              "       [4, 5, 6],\n",
              "       [1, 2, 3],\n",
              "       [4, 5, 6],\n",
              "       [1, 2, 3],\n",
              "       [4, 5, 6]])"
            ]
          },
          "metadata": {},
          "execution_count": 34
        }
      ]
    },
    {
      "cell_type": "code",
      "source": [
        "np.array([-2, -1, 0, 1, 2], dtype=\"float\")"
      ],
      "metadata": {
        "colab": {
          "base_uri": "https://localhost:8080/"
        },
        "id": "yqOaXOPKqIdD",
        "outputId": "c086a23f-e79e-441f-ad93-f7665af84f0e"
      },
      "execution_count": 35,
      "outputs": [
        {
          "output_type": "execute_result",
          "data": {
            "text/plain": [
              "array([-2., -1.,  0.,  1.,  2.])"
            ]
          },
          "metadata": {},
          "execution_count": 35
        }
      ]
    },
    {
      "cell_type": "code",
      "source": [
        "np.array([-2, -1, 0, 1, 2], dtype=\"str\")"
      ],
      "metadata": {
        "colab": {
          "base_uri": "https://localhost:8080/"
        },
        "id": "-fQfkhxNqaIT",
        "outputId": "a7950041-8c9e-4973-8162-839e3b10e80e"
      },
      "execution_count": 37,
      "outputs": [
        {
          "output_type": "execute_result",
          "data": {
            "text/plain": [
              "array(['-2', '-1', '0', '1', '2'], dtype='<U2')"
            ]
          },
          "metadata": {},
          "execution_count": 37
        }
      ]
    },
    {
      "cell_type": "code",
      "source": [
        "np.array([-2, -1, 0, 1, 2], dtype=str)"
      ],
      "metadata": {
        "colab": {
          "base_uri": "https://localhost:8080/"
        },
        "id": "xaJCMFcrrYlV",
        "outputId": "d7eae93f-ad03-4f33-ce99-853ee2c9c27a"
      },
      "execution_count": 43,
      "outputs": [
        {
          "output_type": "execute_result",
          "data": {
            "text/plain": [
              "array(['-2', '-1', '0', '1', '2'], dtype='<U2')"
            ]
          },
          "metadata": {},
          "execution_count": 43
        }
      ]
    },
    {
      "cell_type": "code",
      "source": [
        "np.array([\"a\", \"bb\", \"ccc\", \"dddd\", \"eeeee\"])"
      ],
      "metadata": {
        "colab": {
          "base_uri": "https://localhost:8080/"
        },
        "id": "T20PbSIQqjlR",
        "outputId": "20bfc021-85e4-44e6-cadc-31fd0062f827"
      },
      "execution_count": 38,
      "outputs": [
        {
          "output_type": "execute_result",
          "data": {
            "text/plain": [
              "array(['a', 'bb', 'ccc', 'dddd', 'eeeee'], dtype='<U5')"
            ]
          },
          "metadata": {},
          "execution_count": 38
        }
      ]
    },
    {
      "cell_type": "code",
      "source": [
        "# Boolean array\n",
        "np.array([True, False, True, True]).dtype"
      ],
      "metadata": {
        "colab": {
          "base_uri": "https://localhost:8080/"
        },
        "id": "DmB9z3Puqyvy",
        "outputId": "cb7b00b3-73c7-485a-e04c-ed6cb6c164ef"
      },
      "execution_count": 39,
      "outputs": [
        {
          "output_type": "execute_result",
          "data": {
            "text/plain": [
              "dtype('bool')"
            ]
          },
          "metadata": {},
          "execution_count": 39
        }
      ]
    },
    {
      "cell_type": "code",
      "source": [
        "np.array([0, 1, 1, 0, 0], dtype=\"bool\")"
      ],
      "metadata": {
        "colab": {
          "base_uri": "https://localhost:8080/"
        },
        "id": "1uJJiq4RrBQc",
        "outputId": "01301594-88bc-43f0-a21a-a56930a2e80d"
      },
      "execution_count": 40,
      "outputs": [
        {
          "output_type": "execute_result",
          "data": {
            "text/plain": [
              "array([False,  True,  True, False, False])"
            ]
          },
          "metadata": {},
          "execution_count": 40
        }
      ]
    },
    {
      "cell_type": "code",
      "source": [
        "np.array([0, 1, 0, 0], dtype=bool)"
      ],
      "metadata": {
        "colab": {
          "base_uri": "https://localhost:8080/"
        },
        "id": "HXMMpPimrIZQ",
        "outputId": "b718dfba-8e31-4030-c4be-91698134d21f"
      },
      "execution_count": 42,
      "outputs": [
        {
          "output_type": "execute_result",
          "data": {
            "text/plain": [
              "array([False,  True, False, False])"
            ]
          },
          "metadata": {},
          "execution_count": 42
        }
      ]
    },
    {
      "cell_type": "code",
      "source": [
        "np.array([0, 1, 2, 3, -4], dtype=bool)"
      ],
      "metadata": {
        "colab": {
          "base_uri": "https://localhost:8080/"
        },
        "id": "DhWIz8RrrQhC",
        "outputId": "6572215a-5819-4981-b04d-43b4768cf838"
      },
      "execution_count": 44,
      "outputs": [
        {
          "output_type": "execute_result",
          "data": {
            "text/plain": [
              "array([False,  True,  True,  True,  True])"
            ]
          },
          "metadata": {},
          "execution_count": 44
        }
      ]
    },
    {
      "cell_type": "code",
      "source": [
        "# Complex array\n",
        "np.array([[1+ 1j, 2 + 2j], [3 + 3j, 4 + 4j]]).dtype"
      ],
      "metadata": {
        "colab": {
          "base_uri": "https://localhost:8080/"
        },
        "id": "L3FFXZ7ArhI9",
        "outputId": "6b616737-5ceb-479e-98ec-34aa8f9be3b1"
      },
      "execution_count": 46,
      "outputs": [
        {
          "output_type": "execute_result",
          "data": {
            "text/plain": [
              "dtype('complex128')"
            ]
          },
          "metadata": {},
          "execution_count": 46
        }
      ]
    },
    {
      "cell_type": "code",
      "source": [
        ""
      ],
      "metadata": {
        "id": "dlSz4Zxdry-M"
      },
      "execution_count": null,
      "outputs": []
    }
  ]
}